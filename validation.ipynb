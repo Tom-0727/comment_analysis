{
 "cells": [
  {
   "cell_type": "code",
   "execution_count": 18,
   "id": "7b422034",
   "metadata": {},
   "outputs": [],
   "source": [
    "import pandas as pd\n",
    "\n",
    "\n",
    "start_index = 0\n",
    "end_index = 50\n",
    "criteria = 'gangmu_desk'\n",
    "model = 'gpt-4.1-2025-04-14'\n",
    "template = 'gangmu_desk'\n",
    "file_path = './buffer/to_do_more.xlsx'\n",
    "output_path = './buffer/gangmu_more.csv'\n",
    "\n",
    "to_analyze = True\n",
    "to_translate_comment = True\n",
    "to_check = True"
   ]
  },
  {
   "cell_type": "code",
   "execution_count": 19,
   "id": "87bf6f88",
   "metadata": {},
   "outputs": [
    {
     "name": "stdout",
     "output_type": "stream",
     "text": [
      "Index(['评论内容', '中文评论', '好差评结果', '评分', '评论时间', '英文分析', '人审提取情况(wenyue)',\n",
      "       '人审提取准确情况(wenyue)', '人审提取覆盖情况(wenyue)', '人审提取通过情况(Tom)',\n",
      "       '人审提取准确情况(Tom)', '人审提取覆盖情况(Tom)', '人审提取通过情况(Olivia)',\n",
      "       '人审提取准确情况(Olivia)', '人审提取覆盖情况(Olivia)', '最终审查结果'],\n",
      "      dtype='object')\n",
      "(50, 16)\n"
     ]
    }
   ],
   "source": [
    "\n",
    "# df = pd.read_csv(file_path, sep=None, engine='python')\n",
    "# print(df.columns)\n",
    "# print(df.shape)\n",
    "\n",
    "df = pd.read_excel(file_path, sheet_name='钢木桌测试')\n",
    "\n",
    "df = df[df['好差评结果'].isna()]\n",
    "df = df.sample(n=50, replace=True)\n",
    "print(df.columns)\n",
    "print(df.shape)\n",
    "\n",
    "if True:\n",
    "    # df = df[['评论内容', '评分', '评论时间']]\n",
    "    df['英文分析'] = ''\n",
    "    df['好差评结果'] = ''\n",
    "    df['审查结果'] = ''"
   ]
  },
  {
   "cell_type": "code",
   "execution_count": 20,
   "id": "0b9974b7",
   "metadata": {},
   "outputs": [
    {
     "name": "stderr",
     "output_type": "stream",
     "text": [
      "100%|██████████| 50/50 [08:03<00:00,  9.68s/it]\n"
     ]
    }
   ],
   "source": [
    "import re\n",
    "import yaml\n",
    "from tqdm import tqdm\n",
    "from modules.agent import OpenAICommentAnalysisAgent\n",
    "\n",
    "\n",
    "\n",
    "def extract_output(text):\n",
    "    pattern = r'\\{.*?\\}'\n",
    "    matches = re.findall(pattern, text, re.DOTALL)\n",
    "\n",
    "    matches = [match.replace('\\n', '') for match in matches]\n",
    "    return matches\n",
    "\n",
    "\n",
    "def remove_duplicate_values(input_dict):\n",
    "    seen_values = set()  # 用于存储已经出现过的值\n",
    "    output_dict = {}  # 用于存储最终的结果\n",
    "\n",
    "    for key, value in input_dict.items():\n",
    "        if value not in seen_values:\n",
    "            seen_values.add(value)\n",
    "            output_dict[key] = value\n",
    "\n",
    "    return output_dict\n",
    "\n",
    "\n",
    "with open('./openai_keys.yaml', \"r\", encoding=\"utf-8\") as file:\n",
    "    data = yaml.safe_load(file)\n",
    "my_key = data['openai']['key']\n",
    "\n",
    "comment_analyzor = OpenAICommentAnalysisAgent(openai_key=my_key, criteria=criteria, model=model, template=template)\n",
    "\n",
    "\n",
    "for i in tqdm(range(start_index, min(len(df), end_index))):\n",
    "    comment = df.iloc[i]['评论内容']\n",
    "    if not isinstance(comment, str):\n",
    "        continue\n",
    "\n",
    "    # 分析评论\n",
    "    if to_analyze:\n",
    "        analysis = comment_analyzor.comment_analyze(comment)\n",
    "        df.loc[i, '英文分析'] = analysis\n",
    "        # print(f\"分析结果: {analysis}\")\n",
    "\n",
    "        # 提取结果\n",
    "        extracted_output = extract_output(analysis)\n",
    "        extracted_output = ''.join(extracted_output)\n",
    "        extracted_output = eval(extracted_output)\n",
    "        extracted_output = remove_duplicate_values(extracted_output)\n",
    "        df.loc[i, '好差评结果'] = str(extracted_output)\n",
    "        # print(f\"提取结果: {extracted_output}\")\n",
    "\n",
    "    # 翻译\n",
    "    if to_translate_comment:\n",
    "        translated_comment = comment_analyzor.translate(comment)\n",
    "        df.loc[i, '中文评论'] = translated_comment\n",
    "        # print(f\"原: {comment}\\n翻译评论: {translated_comment}\")\n",
    "\n",
    "    # 反审查\n",
    "    if to_check:\n",
    "        extracted_output = df.loc[i, '好差评结果']\n",
    "        check_result = comment_analyzor.inspect(comment, str(extracted_output))\n",
    "        df.loc[i, '审查结果'] = check_result\n",
    "df.to_csv(output_path, sep='\\t', index=False)"
   ]
  },
  {
   "cell_type": "code",
   "execution_count": null,
   "id": "b27ddcd8",
   "metadata": {},
   "outputs": [],
   "source": [
    "df.to_csv(output_path, sep='\\t', index=False)"
   ]
  },
  {
   "cell_type": "code",
   "execution_count": null,
   "id": "62507f06",
   "metadata": {},
   "outputs": [],
   "source": [
    "print(df.shape)"
   ]
  },
  {
   "cell_type": "code",
   "execution_count": null,
   "id": "99410957",
   "metadata": {},
   "outputs": [],
   "source": [
    "import pandas as pd\n",
    "\n",
    "\n",
    "points = {'组装难度与时间': 'Assembly difficulty & Time', '说明书质量': 'Manual Quality', '组装部件数量': 'Number of Assembly Parts', '可改配置': 'Configurability', '部件易识别度': 'Part Identifiability', '照明功能': 'Lighting Feature', '集成电源和充电端口': 'Integrated Power and Charging Ports', '存储功能': 'Storage Features', '附加功能': 'Accessory Features', 'PC主机存放': 'PC Tower Space', '键盘托盘': 'Keyboard Tray', '置物架功能': 'Shelf Space', '洞洞板功能': 'Pegboard Feature', '腿部空间': 'Leg Room', '游戏场景适配': 'Suitability for Gaming', '外观与风格': 'Appearance & Style', '颜色': 'Color', '桌面多板拼接': 'Multi-Board Desktop', '稳定性和坚固性': 'Stability & Sturdiness', '产品可靠性': 'Product Durability', '防水性': 'Water Resistance', '桌面厚度与材质': 'Desktop Quality', '五金件质量': 'Hardware Quality', '抽屉质量': 'Drawers Quality', '预钻孔对齐情况': 'Pilot Holes Alignment', '气味情况': 'Odor', '性价比': 'Value for Money', '发货速度': 'Shipping Speed', '包装质量': 'Packaging Quality', '产品完整性': 'Product Integrity', '客户服务': 'Customer Service', '售后服务': 'After-sales Service', '退换货体验': 'Return Difficulty', '线缆管理': 'Cable Management', '桌面尺寸': 'Desktop Size', '桌子形状': 'Desk Shape', '承重能力': 'Load capacity', '值得推荐': 'Recommendation', '与商品图有差距': 'Product Image/Description Mismatch'}\n",
    "points = {v.lower(): k for k, v in points.items()}\n",
    "\n",
    "file_path = './buffer/pengcong_re.csv'\n",
    "save_path = './buffer/pengcong_ren.csv'\n",
    "df = pd.read_csv(file_path, sep=None, engine='python')\n",
    "df['好评'] = ''\n",
    "df['差评'] = ''\n",
    "df['中评'] = ''\n",
    "\n",
    "for i in range(len(df)):\n",
    "    ext_pts = df.iloc[i]['好差评结果']\n",
    "    try:\n",
    "        ext_pts = eval(ext_pts)\n",
    "    except:\n",
    "        print(ext_pts)\n",
    "        continue\n",
    "    pos = []\n",
    "    neg = []\n",
    "    neu = []\n",
    "    for k in ext_pts.keys():\n",
    "        if 'Pos' in k or 'pos' in k:\n",
    "            ch = ext_pts[k]\n",
    "            ch = ch.strip().lower()\n",
    "            ch = points[ch]\n",
    "            pos.append(ch)\n",
    "        elif 'Neg' in k or 'neg' in k:\n",
    "            ch = ext_pts[k]\n",
    "            ch = ch.strip().lower()\n",
    "            ch = points[ch]\n",
    "            neg.append(ch)\n",
    "        elif 'Neu' in k or 'neu' in k:\n",
    "            ch = ext_pts[k]\n",
    "            ch = ch.strip().lower()\n",
    "            ch = points[ch]\n",
    "            neu.append(ch)\n",
    "    df.loc[i, '好评'] = str(pos)\n",
    "    df.loc[i, '差评'] = str(neg)\n",
    "    df.loc[i, '中评'] = str(neu)\n",
    "\n",
    "df.to_csv(save_path, index=False, sep='\\t')"
   ]
  },
  {
   "cell_type": "code",
   "execution_count": 23,
   "id": "ac4fccb0",
   "metadata": {},
   "outputs": [
    {
     "name": "stdout",
     "output_type": "stream",
     "text": [
      "560\n"
     ]
    }
   ],
   "source": [
    "sheets = ['钢木桌', '板式办公桌', '升降桌']\n",
    "\n",
    "file_path = './buffer/desk2.xlsx'\n",
    "num_wrong_points = 0\n",
    "total_points = 0\n",
    "\n",
    "def count_points(x):\n",
    "    try:\n",
    "        x = eval(x)\n",
    "    except:\n",
    "        print(f\"Error evaluating: {x}\")\n",
    "        return 0\n",
    "    return len(x.keys())\n",
    "\n",
    "\n",
    "for sheet in sheets:\n",
    "    df = pd.read_excel(file_path, sheet_name=sheet)\n",
    "    #df = df[df['最终'] != '不通过']\n",
    "    df = df.dropna(subset=['好差评结果'])\n",
    "\n",
    "    df['num_points'] = df['好差评结果'].apply(count_points)\n",
    "    #num_wrong_points += df['人审提取准确情况(Tom)'].sum()\n",
    "    total_points += df['num_points'].sum()\n",
    "\n",
    "    # # 计算准确率\n",
    "    # print(f\"num_wrong_points: {num_wrong_points}, total_points: {total_points}\")\n",
    "    # accuracy = (total_points - num_wrong_points) / total_points\n",
    "    # print(f\"总的准确率: {accuracy:.2%}\")\n",
    "print(total_points)"
   ]
  }
 ],
 "metadata": {
  "kernelspec": {
   "display_name": "comment_analysis",
   "language": "python",
   "name": "python3"
  },
  "language_info": {
   "codemirror_mode": {
    "name": "ipython",
    "version": 3
   },
   "file_extension": ".py",
   "mimetype": "text/x-python",
   "name": "python",
   "nbconvert_exporter": "python",
   "pygments_lexer": "ipython3",
   "version": "3.11.11"
  }
 },
 "nbformat": 4,
 "nbformat_minor": 5
}
