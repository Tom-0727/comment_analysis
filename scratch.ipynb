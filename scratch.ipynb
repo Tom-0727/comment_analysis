{
 "cells": [
  {
   "cell_type": "code",
   "execution_count": 1,
   "metadata": {},
   "outputs": [],
   "source": [
    "import yaml\n",
    "from modules.agent import OpenAICommentAnalysisAgent\n",
    "\n",
    "\n",
    "with open('openai_keys.yaml', 'r') as f:\n",
    "    data = yaml.safe_load(f)\n",
    "\n",
    "agent = OpenAICommentAnalysisAgent(openai_key=data['openai']['key'], criteria='stations', model='gpt-4o-2024-08-06')\n"
   ]
  },
  {
   "cell_type": "code",
   "execution_count": null,
   "metadata": {},
   "outputs": [],
   "source": [
    "agent.comment_analyze('This desk is sturdy!')"
   ]
  },
  {
   "cell_type": "code",
   "execution_count": null,
   "metadata": {},
   "outputs": [],
   "source": [
    "resp = agent.points_extract(\"I spent up on the desktop but the slab of wood was beautiful (and heavy). The legs and other materials appear to be all metal. Wood + metal is rare these days everything is plastic.   Have only owned it for a week but love it so far. Plan to keep for the rest of my life.\")\n",
    "print(resp)"
   ]
  },
  {
   "cell_type": "code",
   "execution_count": null,
   "metadata": {},
   "outputs": [],
   "source": [
    "import pandas as pd\n",
    "\n",
    "\n",
    "df = pd.read_csv('./docs/testset_amz_bsr_reviews.csv', sep='\\t')\n",
    "print(df.columns)\n",
    "print(df.shape)"
   ]
  },
  {
   "cell_type": "markdown",
   "metadata": {},
   "source": [
    "# Scratchs"
   ]
  },
  {
   "cell_type": "code",
   "execution_count": null,
   "metadata": {},
   "outputs": [],
   "source": [
    "import re\n",
    "import yaml\n",
    "import pandas as pd\n",
    "from tqdm import tqdm\n",
    "from modules.agent import OpenAICommentAnalysisAgent\n",
    "\n",
    "\n",
    "\n",
    "def extract_output(text):\n",
    "    pattern = r'\\{.*?\\}'\n",
    "    matches = re.findall(pattern, text, re.DOTALL)\n",
    "\n",
    "    matches = [match.replace('\\n', '') for match in matches]\n",
    "    return matches\n",
    "\n",
    "\n",
    "df = pd.read_csv('./docs/testset_stations_bs_reviews.csv', sep='\\t')\n",
    "print(df.columns)\n",
    "print(df.shape)\n",
    "\n",
    "with open('openai_keys.yaml', 'r') as f:\n",
    "    data = yaml.safe_load(f)\n",
    "\n",
    "agent = OpenAICommentAnalysisAgent(openai_key=data['openai']['key'], criteria='stations', model='gpt-4o-2024-08-06')\n",
    "\n",
    "for i in tqdm(range(len(df))):\n",
    "    comment = df.iloc[i]['content']\n",
    "    if not isinstance(comment, str):\n",
    "        continue\n",
    "\n",
    "    points = agent.points_extract(comment)\n",
    "    # print(points)\n",
    "    df.loc[i, '体验点分析'] = points\n",
    "    extract_points = extract_output(points)\n",
    "    df.loc[i, '体验点'] = ''.join(extract_points)\n",
    "    # print(extract_points[0])\n",
    "    # break\n",
    "\n",
    "df.to_csv('./results/stations_bs_reviews_points.csv', sep='\\t')"
   ]
  },
  {
   "cell_type": "code",
   "execution_count": 2,
   "metadata": {},
   "outputs": [
    {
     "name": "stdout",
     "output_type": "stream",
     "text": [
      "Index(['#', '图片', 'ASIN', 'SKU', '详细参数', '品牌', '品牌链接', '商品标题', '产品卖点',\n",
      "       '商品详情页链接', '商品主图', '父ASIN', '类目路径', '大类目', '大类BSR', '大类BSR增长数',\n",
      "       '大类BSR增长率', '小类目', '小类BSR', '月销量', '月销量增长率', '月销售额($)', '子体销量',\n",
      "       '子体销售额($)', '变体数', '价格($)', 'Prime价格($)', 'Coupon', 'Q&A数', '评分数',\n",
      "       '月新增\\n评分数', '评分', '留评率', 'FBA($)', '毛利率', '评级', '上架时间', '上架天数', '配送方式',\n",
      "       'LQS', '卖家数', 'Buybox卖家', 'BuyBox类型', '卖家所属地', '卖家信息', '卖家首页',\n",
      "       'Best Seller标识', 'Amazon's Choice', 'New Release标识', 'A+页面', '视频介绍',\n",
      "       'SP广告', '品牌故事', '品牌广告', '7天促销', 'AC关键词', '重量', '重量.1', '体积', '体积.1',\n",
      "       '包装重量', '包装体积', '近1年销量', '近一年销售额($)', '平均价格($)', '市场份额', '卖家',\n",
      "       '卖家精灵官网：https://www.sellersprite.com'],\n",
      "      dtype='object')\n",
      "(42, 68)\n"
     ]
    }
   ],
   "source": [
    "from tools.lilfunc import read_xlsx\n",
    "\n",
    "\n",
    "df = read_xlsx('buffer/Products(32)-US-20250401.xlsx')\n",
    "print(df.columns)\n",
    "print(df.shape)"
   ]
  },
  {
   "cell_type": "code",
   "execution_count": 3,
   "metadata": {},
   "outputs": [
    {
     "name": "stdout",
     "output_type": "stream",
     "text": [
      "Created split_pdfs/output_1.pdf\n",
      "Created split_pdfs/output_2.pdf\n",
      "Created split_pdfs/output_3.pdf\n",
      "Created split_pdfs/output_4.pdf\n",
      "Created split_pdfs/output_5.pdf\n",
      "Created split_pdfs/output_6.pdf\n",
      "Created split_pdfs/output_7.pdf\n",
      "Created split_pdfs/output_8.pdf\n"
     ]
    }
   ],
   "source": [
    "import os\n",
    "from PyPDF2 import PdfReader, PdfWriter\n",
    "\n",
    "def split_pdf(input_pdf_path, output_folder, num_splits):\n",
    "    # 确保输出文件夹存在\n",
    "    if not os.path.exists(output_folder):\n",
    "        os.makedirs(output_folder)\n",
    "\n",
    "    # 打开原始PDF文件\n",
    "    with open(input_pdf_path, 'rb') as file:\n",
    "        reader = PdfReader(file)\n",
    "        num_pages = len(reader.pages)\n",
    "        \n",
    "        # 计算每个分割文件的页数\n",
    "        pages_per_file = num_pages // num_splits\n",
    "        \n",
    "        # 循环创建分割的PDF文件\n",
    "        for i in range(num_splits):\n",
    "            # 创建一个PDF写入对象\n",
    "            writer = PdfWriter()\n",
    "            \n",
    "            # 添加页面到写入对象\n",
    "            start_page = i * pages_per_file\n",
    "            end_page = start_page + pages_per_file\n",
    "            if i == num_splits - 1:  # 最后一个分割可能包含更多的页面\n",
    "                end_page = num_pages\n",
    "            for page_num in range(start_page, end_page):\n",
    "                writer.add_page(reader.pages[page_num])\n",
    "            \n",
    "            # 输出文件名\n",
    "            output_filename = f\"output_{i+1}.pdf\"\n",
    "            output_path = os.path.join(output_folder, output_filename)\n",
    "            \n",
    "            # 写入文件\n",
    "            with open(output_path, 'wb') as output_file:\n",
    "                writer.write(output_file)\n",
    "            print(f\"Created {output_path}\")\n",
    "\n",
    "# 使用示例\n",
    "input_pdf_path = 'a.pdf'  # 替换为你的PDF文件路径\n",
    "output_folder = 'split_pdfs'  # 输出文件夹路径\n",
    "num_splits = 8  # 分割成6份\n",
    "\n",
    "split_pdf(input_pdf_path, output_folder, num_splits)"
   ]
  },
  {
   "cell_type": "code",
   "execution_count": null,
   "metadata": {},
   "outputs": [
    {
     "data": {
      "text/plain": [
       "3626.4"
      ]
     },
     "execution_count": 2,
     "metadata": {},
     "output_type": "execute_result"
    }
   ],
   "source": []
  }
 ],
 "metadata": {
  "kernelspec": {
   "display_name": "general",
   "language": "python",
   "name": "python3"
  },
  "language_info": {
   "codemirror_mode": {
    "name": "ipython",
    "version": 3
   },
   "file_extension": ".py",
   "mimetype": "text/x-python",
   "name": "python",
   "nbconvert_exporter": "python",
   "pygments_lexer": "ipython3",
   "version": "3.11.11"
  }
 },
 "nbformat": 4,
 "nbformat_minor": 2
}
