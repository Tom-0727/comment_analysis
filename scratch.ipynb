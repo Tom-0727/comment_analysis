{
 "cells": [
  {
   "cell_type": "code",
   "execution_count": 1,
   "metadata": {},
   "outputs": [],
   "source": [
    "import yaml\n",
    "from modules.agent import OpenAICommentAnalysisAgent\n",
    "\n",
    "\n",
    "with open('openai_keys.yaml', 'r') as f:\n",
    "    data = yaml.safe_load(f)\n",
    "\n",
    "agent = OpenAICommentAnalysisAgent(openai_key=data['openai']['key'], criteria='stations', model='gpt-4o-2024-08-06')\n"
   ]
  },
  {
   "cell_type": "code",
   "execution_count": 2,
   "metadata": {},
   "outputs": [
    {
     "data": {
      "text/plain": [
       "'The comment \"This desk is sturdy!\" directly mentions the stability of the desk, which is a positive aspect. According to the guidelines, \"sturdy\" is considered a positive aspect of \"stability.\" There are no other aspects mentioned in the comment. Therefore, the extracted aspect is: {\\'Pos1\\': \\'Stability\\'}.'"
      ]
     },
     "execution_count": 2,
     "metadata": {},
     "output_type": "execute_result"
    }
   ],
   "source": [
    "agent.comment_analyze('This desk is sturdy!')"
   ]
  },
  {
   "cell_type": "code",
   "execution_count": 2,
   "metadata": {},
   "outputs": [
    {
     "name": "stdout",
     "output_type": "stream",
     "text": [
      "```json\n",
      "{\n",
      "  \"Material Quality\": \"slab of wood was beautiful and heavy\",\n",
      "  \"Material Composition\": \"legs and other materials appear to be all metal\",\n",
      "  \"Rarity\": \"Wood + metal is rare these days everything is plastic\",\n",
      "  \"Initial Satisfaction\": \"love it so far\",\n",
      "  \"Longevity Expectation\": \"Plan to keep for the rest of my life\"\n",
      "}\n",
      "```\n"
     ]
    }
   ],
   "source": [
    "resp = agent.points_extract(\"I spent up on the desktop but the slab of wood was beautiful (and heavy). The legs and other materials appear to be all metal. Wood + metal is rare these days everything is plastic.   Have only owned it for a week but love it so far. Plan to keep for the rest of my life.\")\n",
    "print(resp)"
   ]
  },
  {
   "cell_type": "code",
   "execution_count": 3,
   "metadata": {},
   "outputs": [
    {
     "name": "stdout",
     "output_type": "stream",
     "text": [
      "Index(['ASIN', '标题', '标题(翻译)', '内容', '内容(翻译)', 'VP评论', 'Vine Voice评论', '型号',\n",
      "       '星级', '赞同数', '图片数量', '图片地址', '是否有视频', '视频地址', '评论链接', '评论人', '头像地址',\n",
      "       '所属国家', '评论人主页', '红人计划链接', '评论时间'],\n",
      "      dtype='object')\n",
      "(803, 21)\n"
     ]
    }
   ],
   "source": [
    "import pandas as pd\n",
    "\n",
    "\n",
    "df = pd.read_csv('./docs/testset_amz_bsr_reviews.csv', sep='\\t')\n",
    "print(df.columns)\n",
    "print(df.shape)"
   ]
  },
  {
   "cell_type": "markdown",
   "metadata": {},
   "source": [
    "# Scratchs"
   ]
  },
  {
   "cell_type": "code",
   "execution_count": 18,
   "metadata": {},
   "outputs": [
    {
     "name": "stdout",
     "output_type": "stream",
     "text": [
      "Index(['Unnamed: 0', 'url', 'author', 'star', 'date', 'title', 'content',\n",
      "       'location', 'images[0]', 'images[1]', 'images[2]', 'images[3]',\n",
      "       'image[0]', 'image[1]', 'image[2]', 'image[3]', 'image[4]', 'images[4]',\n",
      "       'images[5]', 'images[6]', 'images[7]', 'images[8]', 'images[9]',\n",
      "       'images[10]', 'images[11]', 'images[12]', 'images[13]', 'images[14]',\n",
      "       'images[15]', 'images[16]', 'image[5]', 'image[6]', 'image[7]',\n",
      "       'image[8]', 'image[9]', 'iamge'],\n",
      "      dtype='object')\n",
      "(706, 36)\n"
     ]
    },
    {
     "name": "stderr",
     "output_type": "stream",
     "text": [
      "100%|██████████| 706/706 [19:43<00:00,  1.68s/it]\n"
     ]
    }
   ],
   "source": [
    "import re\n",
    "import yaml\n",
    "import pandas as pd\n",
    "from tqdm import tqdm\n",
    "from modules.agent import OpenAICommentAnalysisAgent\n",
    "\n",
    "\n",
    "\n",
    "def extract_output(text):\n",
    "    pattern = r'\\{.*?\\}'\n",
    "    matches = re.findall(pattern, text, re.DOTALL)\n",
    "\n",
    "    matches = [match.replace('\\n', '') for match in matches]\n",
    "    return matches\n",
    "\n",
    "\n",
    "df = pd.read_csv('./docs/testset_stations_bs_reviews.csv', sep='\\t')\n",
    "print(df.columns)\n",
    "print(df.shape)\n",
    "\n",
    "with open('openai_keys.yaml', 'r') as f:\n",
    "    data = yaml.safe_load(f)\n",
    "\n",
    "agent = OpenAICommentAnalysisAgent(openai_key=data['openai']['key'], criteria='stations', model='gpt-4o-2024-08-06')\n",
    "\n",
    "for i in tqdm(range(len(df))):\n",
    "    comment = df.iloc[i]['content']\n",
    "    if not isinstance(comment, str):\n",
    "        continue\n",
    "\n",
    "    points = agent.points_extract(comment)\n",
    "    # print(points)\n",
    "    df.loc[i, '体验点分析'] = points\n",
    "    extract_points = extract_output(points)\n",
    "    df.loc[i, '体验点'] = ''.join(extract_points)\n",
    "    # print(extract_points[0])\n",
    "    # break\n",
    "\n",
    "df.to_csv('./results/stations_bs_reviews_points.csv', sep='\\t')"
   ]
  }
 ],
 "metadata": {
  "language_info": {
   "name": "python"
  }
 },
 "nbformat": 4,
 "nbformat_minor": 2
}
