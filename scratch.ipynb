{
 "cells": [
  {
   "cell_type": "code",
   "execution_count": 5,
   "metadata": {},
   "outputs": [
    {
     "name": "stdout",
     "output_type": "stream",
     "text": [
      "Index(['ASIN', '标题', '标题(翻译)', '内容', '内容(翻译)', 'VP评论', 'Vine Voice评论', '型号',\n",
      "       '星级', '赞同数', '图片数量', '图片地址', '是否有视频', '视频地址', '评论链接', '评论人', '头像地址',\n",
      "       '所属国家', '评论人主页', '红人计划链接', '评论时间'],\n",
      "      dtype='object')\n",
      "(803, 21)\n"
     ]
    }
   ],
   "source": [
    "import os\n",
    "import pandas as pd\n",
    "\n",
    "dfs = []\n",
    "files = []\n",
    "folder_path = \"./buffer/sampes_v1\"\n",
    "files_lis = os.listdir(folder_path)\n",
    "\n",
    "for file in files_lis:\n",
    "    if file.endswith(\".xlsx\"):\n",
    "        file_path = os.path.join(folder_path, file)\n",
    "        df = pd.read_excel(file_path, engine=\"openpyxl\")  # 读取文件\n",
    "        #print(f\"读取文件: {file}\")\n",
    "\n",
    "        # ----\n",
    "        # df['英文评论'] = ''\n",
    "        # df['中文评论'] = ''\n",
    "        # df['分析结果'] = ''\n",
    "        # df['中文分析'] = ''\n",
    "        # df['提取结果'] = ''\n",
    "\n",
    "        dfs.append(df)\n",
    "        files.append(file)\n",
    "\n",
    "df = pd.concat(dfs, ignore_index=True)\n",
    "print(df.columns)\n",
    "print(df.shape)\n",
    "\n",
    "df.to_csv('./docs/amz_reviews_part1.csv', index=False, sep='\\t')"
   ]
  }
 ],
 "metadata": {
  "kernelspec": {
   "display_name": "comment_analysis",
   "language": "python",
   "name": "python3"
  },
  "language_info": {
   "codemirror_mode": {
    "name": "ipython",
    "version": 3
   },
   "file_extension": ".py",
   "mimetype": "text/x-python",
   "name": "python",
   "nbconvert_exporter": "python",
   "pygments_lexer": "ipython3",
   "version": "3.11.11"
  }
 },
 "nbformat": 4,
 "nbformat_minor": 2
}
