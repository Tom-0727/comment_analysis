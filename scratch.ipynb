{
 "cells": [
  {
   "cell_type": "code",
   "execution_count": 1,
   "metadata": {},
   "outputs": [],
   "source": [
    "import yaml\n",
    "from modules.agent import OpenAICommentAnalysisAgent\n",
    "\n",
    "\n",
    "with open('openai_keys.yaml', 'r') as f:\n",
    "    data = yaml.safe_load(f)\n",
    "\n",
    "agent = OpenAICommentAnalysisAgent(openai_key=data['openai']['key'], criteria='stations', model='gpt-4o-2024-08-06')\n"
   ]
  },
  {
   "cell_type": "code",
   "execution_count": 2,
   "metadata": {},
   "outputs": [
    {
     "data": {
      "text/plain": [
       "'The comment \"This desk is sturdy!\" directly mentions the stability of the desk, which is a positive aspect. According to the guidelines, \"sturdy\" is considered a positive aspect of \"stability.\" There are no other aspects mentioned in the comment. Therefore, the extracted aspect is: {\\'Pos1\\': \\'Stability\\'}.'"
      ]
     },
     "execution_count": 2,
     "metadata": {},
     "output_type": "execute_result"
    }
   ],
   "source": [
    "agent.comment_analyze('This desk is sturdy!')"
   ]
  }
 ],
 "metadata": {
  "language_info": {
   "name": "python"
  }
 },
 "nbformat": 4,
 "nbformat_minor": 2
}
