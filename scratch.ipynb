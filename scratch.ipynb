{
 "cells": [
  {
   "cell_type": "code",
   "execution_count": 1,
   "metadata": {},
   "outputs": [],
   "source": [
    "import yaml\n",
    "from modules.agent import OpenAICommentAnalysisAgent\n",
    "\n",
    "\n",
    "with open('openai_keys.yaml', 'r') as f:\n",
    "    data = yaml.safe_load(f)\n",
    "\n",
    "agent = OpenAICommentAnalysisAgent(openai_key=data['openai']['key'], criteria='stations', model='gpt-4o-2024-08-06')\n"
   ]
  },
  {
   "cell_type": "code",
   "execution_count": null,
   "metadata": {},
   "outputs": [],
   "source": [
    "agent.comment_analyze('This desk is sturdy!')"
   ]
  },
  {
   "cell_type": "code",
   "execution_count": null,
   "metadata": {},
   "outputs": [],
   "source": [
    "resp = agent.points_extract(\"I spent up on the desktop but the slab of wood was beautiful (and heavy). The legs and other materials appear to be all metal. Wood + metal is rare these days everything is plastic.   Have only owned it for a week but love it so far. Plan to keep for the rest of my life.\")\n",
    "print(resp)"
   ]
  },
  {
   "cell_type": "code",
   "execution_count": null,
   "metadata": {},
   "outputs": [],
   "source": [
    "import pandas as pd\n",
    "\n",
    "\n",
    "df = pd.read_csv('./docs/testset_amz_bsr_reviews.csv', sep='\\t')\n",
    "print(df.columns)\n",
    "print(df.shape)"
   ]
  },
  {
   "cell_type": "markdown",
   "metadata": {},
   "source": [
    "# Scratchs"
   ]
  },
  {
   "cell_type": "code",
   "execution_count": null,
   "metadata": {},
   "outputs": [],
   "source": [
    "import re\n",
    "import yaml\n",
    "import pandas as pd\n",
    "from tqdm import tqdm\n",
    "from modules.agent import OpenAICommentAnalysisAgent\n",
    "\n",
    "\n",
    "\n",
    "def extract_output(text):\n",
    "    pattern = r'\\{.*?\\}'\n",
    "    matches = re.findall(pattern, text, re.DOTALL)\n",
    "\n",
    "    matches = [match.replace('\\n', '') for match in matches]\n",
    "    return matches\n",
    "\n",
    "\n",
    "df = pd.read_csv('./docs/testset_stations_bs_reviews.csv', sep='\\t')\n",
    "print(df.columns)\n",
    "print(df.shape)\n",
    "\n",
    "with open('openai_keys.yaml', 'r') as f:\n",
    "    data = yaml.safe_load(f)\n",
    "\n",
    "agent = OpenAICommentAnalysisAgent(openai_key=data['openai']['key'], criteria='stations', model='gpt-4o-2024-08-06')\n",
    "\n",
    "for i in tqdm(range(len(df))):\n",
    "    comment = df.iloc[i]['content']\n",
    "    if not isinstance(comment, str):\n",
    "        continue\n",
    "\n",
    "    points = agent.points_extract(comment)\n",
    "    # print(points)\n",
    "    df.loc[i, '体验点分析'] = points\n",
    "    extract_points = extract_output(points)\n",
    "    df.loc[i, '体验点'] = ''.join(extract_points)\n",
    "    # print(extract_points[0])\n",
    "    # break\n",
    "\n",
    "df.to_csv('./results/stations_bs_reviews_points.csv', sep='\\t')"
   ]
  }
 ],
 "metadata": {
  "kernelspec": {
   "display_name": "comment_analysis",
   "language": "python",
   "name": "python3"
  },
  "language_info": {
   "codemirror_mode": {
    "name": "ipython",
    "version": 3
   },
   "file_extension": ".py",
   "mimetype": "text/x-python",
   "name": "python",
   "nbconvert_exporter": "python",
   "pygments_lexer": "ipython3",
   "version": "3.11.11"
  }
 },
 "nbformat": 4,
 "nbformat_minor": 2
}
