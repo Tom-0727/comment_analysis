{
 "cells": [
  {
   "cell_type": "code",
   "execution_count": 9,
   "metadata": {},
   "outputs": [
    {
     "name": "stdout",
     "output_type": "stream",
     "text": [
      "我是一个智能对话机器人，可以回答你提出的问题并与你进行交流。有什么我可以帮助你的吗？\n"
     ]
    }
   ],
   "source": [
    "print(robot.one_shot(text='你是谁？'))"
   ]
  },
  {
   "cell_type": "code",
   "execution_count": null,
   "metadata": {},
   "outputs": [
    {
     "name": "stderr",
     "output_type": "stream",
     "text": [
      "/Users/youniverse/miniconda3/envs/comment_analysis/lib/python3.11/site-packages/tqdm/auto.py:21: TqdmWarning: IProgress not found. Please update jupyter and ipywidgets. See https://ipywidgets.readthedocs.io/en/stable/user_install.html\n",
      "  from .autonotebook import tqdm as notebook_tqdm\n",
      "Fetching 30 files:  60%|██████    | 18/30 [08:31<05:41, 28.43s/it]\n"
     ]
    }
   ],
   "source": [
    "from FlagEmbedding import BGEM3FlagModel\n",
    "\n",
    "model = BGEM3FlagModel('BAAI/bge-m3',  \n",
    "                       use_fp16=True) # Setting use_fp16 to True speeds up computation with a slight performance degradation\n",
    "\n",
    "sentences_1 = [\"What is BGE M3?\", \"Defination of BM25\"]\n",
    "sentences_2 = [\"BGE M3 is an embedding model supporting dense retrieval, lexical matching and multi-vector interaction.\", \n",
    "               \"BM25 is a bag-of-words retrieval function that ranks a set of documents based on the query terms appearing in each document\"]\n",
    "\n",
    "embeddings_1 = model.encode(sentences_1, \n",
    "                            batch_size=12, \n",
    "                            max_length=8192, # If you don't need such a long length, you can set a smaller value to speed up the encoding process.\n",
    "                            )['dense_vecs']\n",
    "embeddings_2 = model.encode(sentences_2)['dense_vecs']\n",
    "similarity = embeddings_1 @ embeddings_2.T\n",
    "print(similarity)"
   ]
  },
  {
   "cell_type": "code",
   "execution_count": 3,
   "metadata": {},
   "outputs": [
    {
     "name": "stdout",
     "output_type": "stream",
     "text": [
      "191\n",
      "Index(['ASIN', '标题', '标题(翻译)', '内容', '内容(翻译)', 'VP评论', 'Vine Voice评论', '型号',\n",
      "       '星级', '好评点1', '好评点2', '好评点3', '好评点4', '好评点5', '差评点1', '差评点2', '差评点3',\n",
      "       '差评点4', '差评点5', '用户期望', '备注', '赞同数', '图片数量', '图片地址', '是否有视频', '视频地址',\n",
      "       '评论链接', '评论人', '头像地址', '所属国家', '评论人主页', '红人计划链接', '评论时间'],\n",
      "      dtype='object')\n"
     ]
    }
   ],
   "source": [
    "import pandas as pd\n",
    "\n",
    "\n",
    "df = pd.read_csv('./buffer/comment_samples.csv')\n",
    "print(len(df))\n",
    "print(df.columns)"
   ]
  },
  {
   "cell_type": "code",
   "execution_count": 6,
   "metadata": {},
   "outputs": [
    {
     "name": "stdout",
     "output_type": "stream",
     "text": [
      "Wonderful desk! Wonderful people to work with. Thank you\n",
      "It’s a nice desk was pretty easy to assemble\n",
      "The desk is beautiful looking although it is a little bit deceiving. Kinda wish I ordered a different one. I agree with other reviews that the set up takes forever and there are SO MANY PARTS! I am petite/5’3 and bought a computer chair that is equivalent to the height of a dining room table chair, nothing special and I have a hard time putting my legs under so I do wish it was taller. Also, the drawers aren’t as deep as the desk is so that’s a bummer they are so small. It’s just big enough to fit a 8 x 10 sheet of paper. Overall looks beautiful but functionality can be improved.\n",
      "I just received this desk. The box was badly damaged and most of the pieces inside are chipped and even some the wood has split. Don't buy this desk.\n"
     ]
    }
   ],
   "source": [
    "\n",
    "length = len(df)\n",
    "for i in range(4):\n",
    "    comment = df.iloc[i]['内容']\n",
    "    print(comment)"
   ]
  },
  {
   "cell_type": "code",
   "execution_count": 23,
   "metadata": {},
   "outputs": [
    {
     "name": "stdout",
     "output_type": "stream",
     "text": [
      "The reason why I give 3 stars, is because the assembly was a pain. To long to finish it. Nothing is build, not even the drawer.\n",
      "{'差评点1': '安装难度', '差评点2': '安装时长'}\n",
      "It’s a pain in the ass to assemble but it’s amazing. The drawers glide perfectly and the feel of the material is amazing! I had to screw holes to drop cords but totally worth it.\n",
      "{'差评点1': '安装难度', '好评点1': '抽屉滑轨顺畅度', '好评点2': '桌板材质'}\n",
      "Complete trash. No file space. It’s supposed to be an executive desk and you cannot put files in it at all. False advertising and a waste of my damn money. I want a refund!\n",
      "{'差评点1': '抽屉收纳空间', '差评点2': '商品与详情页匹配度'}\n",
      "The desk is solid and fairly straightforward. Good storage space and true to color depicted on Amazon. Just one issue but for us it is pretty significant: The drawers are not very deep/long. They measure just 11-1/2” in length and 10” wide. The file drawer (lower right) is mainly where this is a problem for us. A typical file folder system has to be compacted to fit and forget about a hanging file set up. Not sure why they made the drawers so shallow — if they were the depth of the desk itself, it would have much better functionality. The cabinet (lower left) is the full depth of the desk itself — — 20”. Read the drawer sizes carefully — depending on your needs, it may or may not work for you. Otherwise the desk is very solid.\n",
      "{'好评点1': '桌面承重能力', '好评点2': '商品与详情页匹配度', '差评点1': '抽屉收纳空间'}\n",
      "Customer service was amazing for this product as they sent missing parts via mail instantly when contacted. Desk is beautiful and sturdy.\n",
      "{'好评点1': '客服质量', '好评点2': '商品与详情页匹配度', '好评点3': '稳定性', '好评点4': '外观'}\n",
      "The desk is great. It has so many parts but the instructions are very clear to assemble. We had an issue with one of the key parts and when I reached out to the customer service they promptly followed up and resolved in a very friendly manner.\n",
      "\n",
      "The only improvement I could suggest to the product is that the shelves could have been deeper all the way to the back of the desk.\n",
      "{'好评点1': '安装说明书', '好评点2': '客服质量', '差评点1': '抽屉收纳空间'}\n",
      "This desk is sturdy and beautiful. Takes a while to put together but made well.\n",
      "{'好评点1': '外观', '好评点2': '稳定性', '差评点1': '安装时长'}\n",
      "This desk to me about 2 hours to put together. I was worried about the durability but once it was together everything seems fine. It is very solid and looks great.\n",
      "{'差评点1': '安装时长', '好评点1': '稳定性', '好评点2': '外观'}\n",
      "The top of the desk was damaged but it’s too difficult to package back up and return. Also had a piece missing that will have to be made. Part#15- only received 7 of 8. I am very disappointed after paying over $300 for this.\n",
      "{'差评点1': '桌板表面完整性', '差评点2': '缺件情况'}\n",
      "The box arrived half open due to damage in shipping and the parts are flimsy. A couple of parts were damaged out of the box. I regret buying, however it is too much of a hassle to return.\n",
      "{'差评点1': '桌体破损情况', '差评点2': '桌板材质'}\n",
      "We spent an entire day putting this desk together.\n",
      "We got down to putting all the drawers in place and there weren’t any of the rails to put the drawers on the tracks!\n",
      "{'差评点1': '安装时长', '差评点2': '抽屉滑轨顺畅度'}\n"
     ]
    }
   ],
   "source": [
    "import yaml\n",
    "from modules.agent import CommentAnalysisAgent\n",
    "\n",
    "\n",
    "with open(\"openai_keys.yaml\", \"r\", encoding=\"utf-8\") as file:\n",
    "    data = yaml.safe_load(file)\n",
    "\n",
    "my_key = data['tom']['key']\n",
    "robot = CommentAnalysisAgent(openai_key=my_key, model=\"gpt-4o-mini-2024-07-18\")  # gpt-4o-2024-08-06  gpt-4o-mini-2024-07-18\n",
    "\n",
    "prompt = '''你是一个评论分析师。现在有个任务是根据买家的评论，提取出里面的好评点和差评点。你需要按照评论提及的点的顺序，依次输出是好评还是差评+评论角度；输出格式为 {'好评点1': 'xxx', ..., '好评点n': 'xxx'}，如果没有信息点则输出{}\n",
    "评论的角度有：<安装难度>，<安装说明书>，<安装时长>，<搬运难度>，<包装保护性>，<抽屉承重能力>，<抽屉滑轨顺畅度>，<抽屉收纳空间>，<错件情况>，<附加电源/USB 插座>，<柜门开合顺畅度>，<客服质量>，<螺丝&孔位匹配度>，<清洁方便性>，<气味情况>，<缺件情况>，<商品与详情页匹配度>，<使用噪音>，<腿部空间大小>，<五金件损坏情况>，<物流速度>，<线缆管理功能>，<桌板表面完整性>，<桌板材质>，<桌板厚度>，<桌面承重能力>，<桌面防水性>，<桌体破损情况>，<桌腿材质>，<桌腿防滑性>，<稳定性>，<外观>，<整装拆装>\n",
    "Example1: comment='Wonderful desk! Wonderful people to work with. Thank you'; output={}\n",
    "Example2: comment='It’s a nice desk was pretty easy to assemble'; output={'好评点1': '安装难度'}\n",
    "Example3: comment='The desk is beautiful looking although it is a little bit deceiving. Kinda wish I ordered a different one. I agree with other reviews that the set up takes forever and there are SO MANY PARTS! I am petite/5’3 and bought a computer chair that is equivalent to the height of a dining room table chair, nothing special and I have a hard time putting my legs under so I do wish it was taller. Also, the drawers aren’t as deep as the desk is so that’s a bummer they are so small. It’s just big enough to fit a 8 x 10 sheet of paper. Overall looks beautiful but functionality can be improved.'; output={'好评点1': '外观', '差评点1': '腿部空间大小', '差评点2': '安装时长', '差评点3': '抽屉收纳空间'}\n",
    "Now do: comment='''\n",
    "\n",
    "ans = {}\n",
    "for i in range(4, 15):\n",
    "    comment = df.iloc[i]['内容']\n",
    "    print(comment)\n",
    "    task_text = prompt + \"'\" + comment + \"'\"\n",
    "    rep = robot.one_shot(text=task_text)\n",
    "    print(rep)\n",
    "    \n",
    "    ans[comment] = rep\n"
   ]
  },
  {
   "cell_type": "code",
   "execution_count": null,
   "metadata": {},
   "outputs": [],
   "source": [
    "print(robot.one_shot(text=task_text))"
   ]
  }
 ],
 "metadata": {
  "kernelspec": {
   "display_name": "comment_analysis",
   "language": "python",
   "name": "python3"
  },
  "language_info": {
   "codemirror_mode": {
    "name": "ipython",
    "version": 3
   },
   "file_extension": ".py",
   "mimetype": "text/x-python",
   "name": "python",
   "nbconvert_exporter": "python",
   "pygments_lexer": "ipython3",
   "version": "3.11.11"
  }
 },
 "nbformat": 4,
 "nbformat_minor": 2
}
